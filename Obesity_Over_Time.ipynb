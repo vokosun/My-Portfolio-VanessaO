{
  "nbformat": 4,
  "nbformat_minor": 0,
  "metadata": {
    "colab": {
      "name": "Obesity Over Time",
      "provenance": [],
      "include_colab_link": true
    },
    "kernelspec": {
      "name": "python3",
      "display_name": "Python 3"
    },
    "language_info": {
      "name": "python"
    }
  },
  "cells": [
    {
      "cell_type": "markdown",
      "metadata": {
        "id": "view-in-github",
        "colab_type": "text"
      },
      "source": [
        "<a href=\"https://colab.research.google.com/github/vokosun/My-Portfolio-VanessaO/blob/main/Obesity_Over_Time.ipynb\" target=\"_parent\"><img src=\"https://colab.research.google.com/assets/colab-badge.svg\" alt=\"Open In Colab\"/></a>"
      ]
    },
    {
      "cell_type": "markdown",
      "source": [
        "# **Dataset**: The Evolution of Diabetes Over Time\n",
        "Accessed through https://www.ncdrisc.org/data-downloads-diabetes.html \n",
        "\n",
        "**Research/Business Question:**\n",
        "\n",
        "* Have the prevalence of Diabetes increased rapidly over the years in women and \n",
        "men?\n",
        "---\n",
        "# **Hypothesis:**\n",
        "* Diabetes has increased rapidly over the years in women \n",
        "* Diabetes has increased rapidly over the years in men\n",
        "\n",
        "**How to test the hypothesis?**\n",
        "* I will be using the year, sex, and the crude diabetes prevalence to test my two hypothesis to find out if diabetes inceases rapidly over the years in both men and women. \n",
        "---\n",
        "\n",
        "**Who will find your findings valuable, and how will they use them?**\n",
        "* Doctors, epidemiologists, and other health professionals, and health organizations will find my findings valuable and also use them to create change or tackle a health issue in the world. \n",
        "\n"
      ],
      "metadata": {
        "id": "eU0LsvLXakga"
      }
    },
    {
      "cell_type": "code",
      "execution_count": null,
      "metadata": {
        "colab": {
          "base_uri": "https://localhost:8080/"
        },
        "id": "Kbxj5HkRn_R4",
        "outputId": "bf51a4e2-7157-4412-ae70-0800480ea392"
      },
      "outputs": [
        {
          "output_type": "stream",
          "name": "stdout",
          "text": [
            "Drive already mounted at /content/gdrive; to attempt to forcibly remount, call drive.mount(\"/content/gdrive\", force_remount=True).\n"
          ]
        }
      ],
      "source": [
        "from google.colab import drive\n",
        "drive.mount('/content/gdrive')"
      ]
    },
    {
      "cell_type": "code",
      "source": [
        ""
      ],
      "metadata": {
        "id": "Mef-5ZTFICcB"
      },
      "execution_count": null,
      "outputs": []
    },
    {
      "cell_type": "code",
      "source": [
        "# Import pandas and read in the GDrive-mounted CSV\n",
        "    \n",
        "from sqlalchemy import create_engine\n",
        "import pandas as pd\n",
        "import seaborn as sns \n",
        "import scipy.stats as stats\n",
        "sns.set()\n",
        "\n",
        "# Suppress warnings (warnings do not prevent the code from executing)\n",
        "import warnings\n",
        "warnings.filterwarnings(\"ignore\")\n",
        "    \n",
        "df = pd.read_csv('/content/gdrive/My Drive/Colab Datasets/Diabetes Over Time.csv')\n",
        "df.head()"
      ],
      "metadata": {
        "colab": {
          "base_uri": "https://localhost:8080/",
          "height": 206
        },
        "id": "eFFSb3qNpBCL",
        "outputId": "e893a116-c06c-405b-f02f-f9888bfc91b6"
      },
      "execution_count": null,
      "outputs": [
        {
          "output_type": "execute_result",
          "data": {
            "text/html": [
              "\n",
              "  <div id=\"df-5ce2f703-9af2-48b6-9dd3-80883489d11d\">\n",
              "    <div class=\"colab-df-container\">\n",
              "      <div>\n",
              "<style scoped>\n",
              "    .dataframe tbody tr th:only-of-type {\n",
              "        vertical-align: middle;\n",
              "    }\n",
              "\n",
              "    .dataframe tbody tr th {\n",
              "        vertical-align: top;\n",
              "    }\n",
              "\n",
              "    .dataframe thead th {\n",
              "        text-align: right;\n",
              "    }\n",
              "</style>\n",
              "<table border=\"1\" class=\"dataframe\">\n",
              "  <thead>\n",
              "    <tr style=\"text-align: right;\">\n",
              "      <th></th>\n",
              "      <th>Country/Region/World</th>\n",
              "      <th>ISO</th>\n",
              "      <th>Sex</th>\n",
              "      <th>Year</th>\n",
              "      <th>Crude diabetes prevalence</th>\n",
              "      <th>Lower 95% uncertainty interval</th>\n",
              "      <th>Upper 95% uncertainty interval</th>\n",
              "    </tr>\n",
              "  </thead>\n",
              "  <tbody>\n",
              "    <tr>\n",
              "      <th>0</th>\n",
              "      <td>Afghanistan</td>\n",
              "      <td>AFG</td>\n",
              "      <td>Men</td>\n",
              "      <td>1980</td>\n",
              "      <td>0.028291</td>\n",
              "      <td>0.008573</td>\n",
              "      <td>0.064234</td>\n",
              "    </tr>\n",
              "    <tr>\n",
              "      <th>1</th>\n",
              "      <td>Afghanistan</td>\n",
              "      <td>AFG</td>\n",
              "      <td>Men</td>\n",
              "      <td>1981</td>\n",
              "      <td>0.028931</td>\n",
              "      <td>0.009486</td>\n",
              "      <td>0.062902</td>\n",
              "    </tr>\n",
              "    <tr>\n",
              "      <th>2</th>\n",
              "      <td>Afghanistan</td>\n",
              "      <td>AFG</td>\n",
              "      <td>Men</td>\n",
              "      <td>1982</td>\n",
              "      <td>0.029537</td>\n",
              "      <td>0.010453</td>\n",
              "      <td>0.062017</td>\n",
              "    </tr>\n",
              "    <tr>\n",
              "      <th>3</th>\n",
              "      <td>Afghanistan</td>\n",
              "      <td>AFG</td>\n",
              "      <td>Men</td>\n",
              "      <td>1983</td>\n",
              "      <td>0.030114</td>\n",
              "      <td>0.011449</td>\n",
              "      <td>0.061258</td>\n",
              "    </tr>\n",
              "    <tr>\n",
              "      <th>4</th>\n",
              "      <td>Afghanistan</td>\n",
              "      <td>AFG</td>\n",
              "      <td>Men</td>\n",
              "      <td>1984</td>\n",
              "      <td>0.030696</td>\n",
              "      <td>0.012390</td>\n",
              "      <td>0.060015</td>\n",
              "    </tr>\n",
              "  </tbody>\n",
              "</table>\n",
              "</div>\n",
              "      <button class=\"colab-df-convert\" onclick=\"convertToInteractive('df-5ce2f703-9af2-48b6-9dd3-80883489d11d')\"\n",
              "              title=\"Convert this dataframe to an interactive table.\"\n",
              "              style=\"display:none;\">\n",
              "        \n",
              "  <svg xmlns=\"http://www.w3.org/2000/svg\" height=\"24px\"viewBox=\"0 0 24 24\"\n",
              "       width=\"24px\">\n",
              "    <path d=\"M0 0h24v24H0V0z\" fill=\"none\"/>\n",
              "    <path d=\"M18.56 5.44l.94 2.06.94-2.06 2.06-.94-2.06-.94-.94-2.06-.94 2.06-2.06.94zm-11 1L8.5 8.5l.94-2.06 2.06-.94-2.06-.94L8.5 2.5l-.94 2.06-2.06.94zm10 10l.94 2.06.94-2.06 2.06-.94-2.06-.94-.94-2.06-.94 2.06-2.06.94z\"/><path d=\"M17.41 7.96l-1.37-1.37c-.4-.4-.92-.59-1.43-.59-.52 0-1.04.2-1.43.59L10.3 9.45l-7.72 7.72c-.78.78-.78 2.05 0 2.83L4 21.41c.39.39.9.59 1.41.59.51 0 1.02-.2 1.41-.59l7.78-7.78 2.81-2.81c.8-.78.8-2.07 0-2.86zM5.41 20L4 18.59l7.72-7.72 1.47 1.35L5.41 20z\"/>\n",
              "  </svg>\n",
              "      </button>\n",
              "      \n",
              "  <style>\n",
              "    .colab-df-container {\n",
              "      display:flex;\n",
              "      flex-wrap:wrap;\n",
              "      gap: 12px;\n",
              "    }\n",
              "\n",
              "    .colab-df-convert {\n",
              "      background-color: #E8F0FE;\n",
              "      border: none;\n",
              "      border-radius: 50%;\n",
              "      cursor: pointer;\n",
              "      display: none;\n",
              "      fill: #1967D2;\n",
              "      height: 32px;\n",
              "      padding: 0 0 0 0;\n",
              "      width: 32px;\n",
              "    }\n",
              "\n",
              "    .colab-df-convert:hover {\n",
              "      background-color: #E2EBFA;\n",
              "      box-shadow: 0px 1px 2px rgba(60, 64, 67, 0.3), 0px 1px 3px 1px rgba(60, 64, 67, 0.15);\n",
              "      fill: #174EA6;\n",
              "    }\n",
              "\n",
              "    [theme=dark] .colab-df-convert {\n",
              "      background-color: #3B4455;\n",
              "      fill: #D2E3FC;\n",
              "    }\n",
              "\n",
              "    [theme=dark] .colab-df-convert:hover {\n",
              "      background-color: #434B5C;\n",
              "      box-shadow: 0px 1px 3px 1px rgba(0, 0, 0, 0.15);\n",
              "      filter: drop-shadow(0px 1px 2px rgba(0, 0, 0, 0.3));\n",
              "      fill: #FFFFFF;\n",
              "    }\n",
              "  </style>\n",
              "\n",
              "      <script>\n",
              "        const buttonEl =\n",
              "          document.querySelector('#df-5ce2f703-9af2-48b6-9dd3-80883489d11d button.colab-df-convert');\n",
              "        buttonEl.style.display =\n",
              "          google.colab.kernel.accessAllowed ? 'block' : 'none';\n",
              "\n",
              "        async function convertToInteractive(key) {\n",
              "          const element = document.querySelector('#df-5ce2f703-9af2-48b6-9dd3-80883489d11d');\n",
              "          const dataTable =\n",
              "            await google.colab.kernel.invokeFunction('convertToInteractive',\n",
              "                                                     [key], {});\n",
              "          if (!dataTable) return;\n",
              "\n",
              "          const docLinkHtml = 'Like what you see? Visit the ' +\n",
              "            '<a target=\"_blank\" href=https://colab.research.google.com/notebooks/data_table.ipynb>data table notebook</a>'\n",
              "            + ' to learn more about interactive tables.';\n",
              "          element.innerHTML = '';\n",
              "          dataTable['output_type'] = 'display_data';\n",
              "          await google.colab.output.renderOutput(dataTable, element);\n",
              "          const docLink = document.createElement('div');\n",
              "          docLink.innerHTML = docLinkHtml;\n",
              "          element.appendChild(docLink);\n",
              "        }\n",
              "      </script>\n",
              "    </div>\n",
              "  </div>\n",
              "  "
            ],
            "text/plain": [
              "  Country/Region/World  ... Upper 95% uncertainty interval\n",
              "0          Afghanistan  ...                       0.064234\n",
              "1          Afghanistan  ...                       0.062902\n",
              "2          Afghanistan  ...                       0.062017\n",
              "3          Afghanistan  ...                       0.061258\n",
              "4          Afghanistan  ...                       0.060015\n",
              "\n",
              "[5 rows x 7 columns]"
            ]
          },
          "metadata": {},
          "execution_count": 2
        }
      ]
    },
    {
      "cell_type": "markdown",
      "source": [
        " **Descriptive Statistics**\n",
        "* I have included some descriptive statistics of that data that include some\n",
        "counts, the mean, maximum and minimum of each of the columns in the dataset. \n",
        "* Diving into the descriptive statistics can help us see some of the values and how diabetes increases throughout the years.\n",
        "---\n",
        "\n",
        "* This was a sample size of **13,540**.\n",
        "* The year range is from **1980 - 2014**."
      ],
      "metadata": {
        "id": "hNpJivnsolc-"
      }
    },
    {
      "cell_type": "code",
      "source": [
        "df.describe()"
      ],
      "metadata": {
        "colab": {
          "base_uri": "https://localhost:8080/",
          "height": 300
        },
        "id": "bxPKwaClnkHu",
        "outputId": "fee93c18-4b70-44dd-9137-f676fa278af3"
      },
      "execution_count": null,
      "outputs": [
        {
          "output_type": "execute_result",
          "data": {
            "text/html": [
              "\n",
              "  <div id=\"df-be3e7eef-1182-4cc6-a597-e8517b64360f\">\n",
              "    <div class=\"colab-df-container\">\n",
              "      <div>\n",
              "<style scoped>\n",
              "    .dataframe tbody tr th:only-of-type {\n",
              "        vertical-align: middle;\n",
              "    }\n",
              "\n",
              "    .dataframe tbody tr th {\n",
              "        vertical-align: top;\n",
              "    }\n",
              "\n",
              "    .dataframe thead th {\n",
              "        text-align: right;\n",
              "    }\n",
              "</style>\n",
              "<table border=\"1\" class=\"dataframe\">\n",
              "  <thead>\n",
              "    <tr style=\"text-align: right;\">\n",
              "      <th></th>\n",
              "      <th>Year</th>\n",
              "      <th>Crude diabetes prevalence</th>\n",
              "      <th>Lower 95% uncertainty interval</th>\n",
              "      <th>Upper 95% uncertainty interval</th>\n",
              "    </tr>\n",
              "  </thead>\n",
              "  <tbody>\n",
              "    <tr>\n",
              "      <th>count</th>\n",
              "      <td>13650.000000</td>\n",
              "      <td>13650.000000</td>\n",
              "      <td>13650.000000</td>\n",
              "      <td>13650.000000</td>\n",
              "    </tr>\n",
              "    <tr>\n",
              "      <th>mean</th>\n",
              "      <td>1997.000000</td>\n",
              "      <td>0.064005</td>\n",
              "      <td>0.037929</td>\n",
              "      <td>0.099751</td>\n",
              "    </tr>\n",
              "    <tr>\n",
              "      <th>std</th>\n",
              "      <td>10.099875</td>\n",
              "      <td>0.035022</td>\n",
              "      <td>0.025618</td>\n",
              "      <td>0.046277</td>\n",
              "    </tr>\n",
              "    <tr>\n",
              "      <th>min</th>\n",
              "      <td>1980.000000</td>\n",
              "      <td>0.005387</td>\n",
              "      <td>0.000793</td>\n",
              "      <td>0.017785</td>\n",
              "    </tr>\n",
              "    <tr>\n",
              "      <th>25%</th>\n",
              "      <td>1988.000000</td>\n",
              "      <td>0.041179</td>\n",
              "      <td>0.020971</td>\n",
              "      <td>0.070211</td>\n",
              "    </tr>\n",
              "    <tr>\n",
              "      <th>50%</th>\n",
              "      <td>1997.000000</td>\n",
              "      <td>0.059015</td>\n",
              "      <td>0.033705</td>\n",
              "      <td>0.092593</td>\n",
              "    </tr>\n",
              "    <tr>\n",
              "      <th>75%</th>\n",
              "      <td>2006.000000</td>\n",
              "      <td>0.077626</td>\n",
              "      <td>0.048545</td>\n",
              "      <td>0.117512</td>\n",
              "    </tr>\n",
              "    <tr>\n",
              "      <th>max</th>\n",
              "      <td>2014.000000</td>\n",
              "      <td>0.297842</td>\n",
              "      <td>0.206040</td>\n",
              "      <td>0.436330</td>\n",
              "    </tr>\n",
              "  </tbody>\n",
              "</table>\n",
              "</div>\n",
              "      <button class=\"colab-df-convert\" onclick=\"convertToInteractive('df-be3e7eef-1182-4cc6-a597-e8517b64360f')\"\n",
              "              title=\"Convert this dataframe to an interactive table.\"\n",
              "              style=\"display:none;\">\n",
              "        \n",
              "  <svg xmlns=\"http://www.w3.org/2000/svg\" height=\"24px\"viewBox=\"0 0 24 24\"\n",
              "       width=\"24px\">\n",
              "    <path d=\"M0 0h24v24H0V0z\" fill=\"none\"/>\n",
              "    <path d=\"M18.56 5.44l.94 2.06.94-2.06 2.06-.94-2.06-.94-.94-2.06-.94 2.06-2.06.94zm-11 1L8.5 8.5l.94-2.06 2.06-.94-2.06-.94L8.5 2.5l-.94 2.06-2.06.94zm10 10l.94 2.06.94-2.06 2.06-.94-2.06-.94-.94-2.06-.94 2.06-2.06.94z\"/><path d=\"M17.41 7.96l-1.37-1.37c-.4-.4-.92-.59-1.43-.59-.52 0-1.04.2-1.43.59L10.3 9.45l-7.72 7.72c-.78.78-.78 2.05 0 2.83L4 21.41c.39.39.9.59 1.41.59.51 0 1.02-.2 1.41-.59l7.78-7.78 2.81-2.81c.8-.78.8-2.07 0-2.86zM5.41 20L4 18.59l7.72-7.72 1.47 1.35L5.41 20z\"/>\n",
              "  </svg>\n",
              "      </button>\n",
              "      \n",
              "  <style>\n",
              "    .colab-df-container {\n",
              "      display:flex;\n",
              "      flex-wrap:wrap;\n",
              "      gap: 12px;\n",
              "    }\n",
              "\n",
              "    .colab-df-convert {\n",
              "      background-color: #E8F0FE;\n",
              "      border: none;\n",
              "      border-radius: 50%;\n",
              "      cursor: pointer;\n",
              "      display: none;\n",
              "      fill: #1967D2;\n",
              "      height: 32px;\n",
              "      padding: 0 0 0 0;\n",
              "      width: 32px;\n",
              "    }\n",
              "\n",
              "    .colab-df-convert:hover {\n",
              "      background-color: #E2EBFA;\n",
              "      box-shadow: 0px 1px 2px rgba(60, 64, 67, 0.3), 0px 1px 3px 1px rgba(60, 64, 67, 0.15);\n",
              "      fill: #174EA6;\n",
              "    }\n",
              "\n",
              "    [theme=dark] .colab-df-convert {\n",
              "      background-color: #3B4455;\n",
              "      fill: #D2E3FC;\n",
              "    }\n",
              "\n",
              "    [theme=dark] .colab-df-convert:hover {\n",
              "      background-color: #434B5C;\n",
              "      box-shadow: 0px 1px 3px 1px rgba(0, 0, 0, 0.15);\n",
              "      filter: drop-shadow(0px 1px 2px rgba(0, 0, 0, 0.3));\n",
              "      fill: #FFFFFF;\n",
              "    }\n",
              "  </style>\n",
              "\n",
              "      <script>\n",
              "        const buttonEl =\n",
              "          document.querySelector('#df-be3e7eef-1182-4cc6-a597-e8517b64360f button.colab-df-convert');\n",
              "        buttonEl.style.display =\n",
              "          google.colab.kernel.accessAllowed ? 'block' : 'none';\n",
              "\n",
              "        async function convertToInteractive(key) {\n",
              "          const element = document.querySelector('#df-be3e7eef-1182-4cc6-a597-e8517b64360f');\n",
              "          const dataTable =\n",
              "            await google.colab.kernel.invokeFunction('convertToInteractive',\n",
              "                                                     [key], {});\n",
              "          if (!dataTable) return;\n",
              "\n",
              "          const docLinkHtml = 'Like what you see? Visit the ' +\n",
              "            '<a target=\"_blank\" href=https://colab.research.google.com/notebooks/data_table.ipynb>data table notebook</a>'\n",
              "            + ' to learn more about interactive tables.';\n",
              "          element.innerHTML = '';\n",
              "          dataTable['output_type'] = 'display_data';\n",
              "          await google.colab.output.renderOutput(dataTable, element);\n",
              "          const docLink = document.createElement('div');\n",
              "          docLink.innerHTML = docLinkHtml;\n",
              "          element.appendChild(docLink);\n",
              "        }\n",
              "      </script>\n",
              "    </div>\n",
              "  </div>\n",
              "  "
            ],
            "text/plain": [
              "               Year  ...  Upper 95% uncertainty interval\n",
              "count  13650.000000  ...                    13650.000000\n",
              "mean    1997.000000  ...                        0.099751\n",
              "std       10.099875  ...                        0.046277\n",
              "min     1980.000000  ...                        0.017785\n",
              "25%     1988.000000  ...                        0.070211\n",
              "50%     1997.000000  ...                        0.092593\n",
              "75%     2006.000000  ...                        0.117512\n",
              "max     2014.000000  ...                        0.436330\n",
              "\n",
              "[8 rows x 4 columns]"
            ]
          },
          "metadata": {},
          "execution_count": 3
        }
      ]
    },
    {
      "cell_type": "markdown",
      "source": [
        "**Null Values**\n",
        "\n",
        "We want to check to see if there are any lack of values in any of the colums.\n",
        "We can also see here there are a total of 7 columns. The columns that we will be focusing on is **year, crude diabetes prevalence and sex column**\n",
        "\n",
        "\n",
        "---\n",
        "* None of the columns have a null value which is good so we can proceed. \n",
        "\n",
        "\n",
        "\n",
        "\n",
        "\n"
      ],
      "metadata": {
        "id": "nVDt2pXMrmVd"
      }
    },
    {
      "cell_type": "code",
      "source": [
        "#Lets get the columns, the data type and see if there are any null values\n",
        "\n",
        "df.info()\n"
      ],
      "metadata": {
        "colab": {
          "base_uri": "https://localhost:8080/"
        },
        "id": "sMhkvW1MpV-c",
        "outputId": "3d8fca43-5d46-4740-a2e6-ae7e5d273e2d"
      },
      "execution_count": null,
      "outputs": [
        {
          "output_type": "stream",
          "name": "stdout",
          "text": [
            "<class 'pandas.core.frame.DataFrame'>\n",
            "RangeIndex: 13650 entries, 0 to 13649\n",
            "Data columns (total 7 columns):\n",
            " #   Column                          Non-Null Count  Dtype  \n",
            "---  ------                          --------------  -----  \n",
            " 0   Country/Region/World            13650 non-null  object \n",
            " 1   ISO                             13650 non-null  object \n",
            " 2   Sex                             13650 non-null  object \n",
            " 3   Year                            13650 non-null  int64  \n",
            " 4   Crude diabetes prevalence       13650 non-null  float64\n",
            " 5   Lower 95% uncertainty interval  13650 non-null  float64\n",
            " 6   Upper 95% uncertainty interval  13650 non-null  float64\n",
            "dtypes: float64(3), int64(1), object(3)\n",
            "memory usage: 746.6+ KB\n"
          ]
        }
      ]
    },
    {
      "cell_type": "markdown",
      "source": [
        "**Sample size of men and women**\n",
        "* There are a total of 6,825 men and 6,825 women in this dataset.\n",
        "* This will aid us in comparing the diabetes prevalence over the years for both men and women. "
      ],
      "metadata": {
        "id": "W5H0a8B8uL_X"
      }
    },
    {
      "cell_type": "code",
      "source": [
        "#The number of men and women in this dataset\n",
        "\n",
        "sex_counts = df['Sex'].value_counts()\n",
        "sex_counts"
      ],
      "metadata": {
        "colab": {
          "base_uri": "https://localhost:8080/"
        },
        "id": "C_SZEpwkcfRs",
        "outputId": "284f9499-0e10-4b33-9619-78b50ca51f87"
      },
      "execution_count": null,
      "outputs": [
        {
          "output_type": "execute_result",
          "data": {
            "text/plain": [
              "Men      6825\n",
              "Women    6825\n",
              "Name: Sex, dtype: int64"
            ]
          },
          "metadata": {},
          "execution_count": 5
        }
      ]
    },
    {
      "cell_type": "markdown",
      "source": [
        "# **Country/Region/World**\n",
        "\n",
        "\n",
        "There are a total of **195** different Countries/Regione/World with a total of **70** people per country.\n",
        "\n"
      ],
      "metadata": {
        "id": "QuPHcrVDvLCG"
      }
    },
    {
      "cell_type": "code",
      "source": [
        "# Lets figure out the total counts of people, men and women, in this dataset\n",
        "\n",
        "df['Country/Region/World'].nunique()"
      ],
      "metadata": {
        "colab": {
          "base_uri": "https://localhost:8080/"
        },
        "id": "wNjqPUx4d2fo",
        "outputId": "35bdce18-674f-493d-fedb-f737cef6c45d"
      },
      "execution_count": null,
      "outputs": [
        {
          "output_type": "execute_result",
          "data": {
            "text/plain": [
              "195"
            ]
          },
          "metadata": {},
          "execution_count": 6
        }
      ]
    },
    {
      "cell_type": "code",
      "source": [
        "# Lets count the people per Country \n",
        "# There was a sample of 70 people per country \n",
        "\n",
        "people_counts = df['Country/Region/World'].value_counts()\n",
        "people_counts"
      ],
      "metadata": {
        "colab": {
          "base_uri": "https://localhost:8080/"
        },
        "id": "9t-VCGdPderx",
        "outputId": "528056bb-d003-45ed-b8fb-a4e3781e2305"
      },
      "execution_count": null,
      "outputs": [
        {
          "output_type": "execute_result",
          "data": {
            "text/plain": [
              "Malaysia    70\n",
              "Somalia     70\n",
              "Zambia      70\n",
              "Slovakia    70\n",
              "DR Congo    70\n",
              "            ..\n",
              "Morocco     70\n",
              "Grenada     70\n",
              "Sweden      70\n",
              "Malta       70\n",
              "Nigeria     70\n",
              "Name: Country/Region/World, Length: 195, dtype: int64"
            ]
          },
          "metadata": {},
          "execution_count": 7
        }
      ]
    },
    {
      "cell_type": "markdown",
      "source": [
        "# **Statistical Analysis**\n",
        "* Statistical anlysis would help us explore the data to see if there is a pattern or trend in relation to the hypothesis that was formulated. \n",
        "\n",
        "\n",
        "---\n",
        "**Pearson Correlation Coefficient**\n",
        "\n",
        "\n",
        "When you find the pearson correlation coefficient, you are testing to see if there is a linear relationship existing between two columsn. \n",
        "  * In this case the columns that we are trying to find a correlation is the **year** and **crude diabetes prevalence** column.\n",
        "\n",
        "It gives information about the magnitude of the association, or correlation, as well as the direction of the relationship. The value is between -1 and 1. \n",
        "  * 1 means there is a strong relationship that exist and -1 means that there is a strong negative correlation. 0 means there is no relationship at all\n",
        "\n",
        "\n",
        "---\n",
        "\n",
        "\n",
        "**Hypothesis:**\n",
        "* Diabetes has increased rapidly over the years in women \n",
        "      H₀: µ1 = µ2 (The two populations means are equal)\n",
        "      Hₐ: µ1 ≠ µ2 (The two populations means are not equal)\n",
        "* Diabetes has increased rapidly over the years in men\n",
        "      H₀: µ1 = µ2 (The two populations means are equal)\n",
        "      Hₐ: µ1 ≠ µ2 (The two populations means are not equal)\n",
        "\n"
      ],
      "metadata": {
        "id": "vxxchYovzaup"
      }
    },
    {
      "cell_type": "code",
      "source": [
        "# Lets find the Pearson correlation coefficient. \n",
        "# The value is farther from 0 which means that there is some type of relationship between years and the crude diabetes prevalence \n",
        "# Hypothesis:\n",
        "# H₀: µ1 = µ2 (The two populations means are equal)\n",
        "# Hₐ: µ1 ≠ µ2 (The two populations means are not equal)\n",
        "\n",
        "df[['Year', 'Crude diabetes prevalence']].corr()"
      ],
      "metadata": {
        "colab": {
          "base_uri": "https://localhost:8080/",
          "height": 112
        },
        "id": "c0fj0gV9wYo1",
        "outputId": "b1e0082c-7e09-4a28-c75f-1d63551da1c9"
      },
      "execution_count": null,
      "outputs": [
        {
          "output_type": "execute_result",
          "data": {
            "text/html": [
              "\n",
              "  <div id=\"df-b488f384-9f47-4ba3-8b85-aafd994fc1e2\">\n",
              "    <div class=\"colab-df-container\">\n",
              "      <div>\n",
              "<style scoped>\n",
              "    .dataframe tbody tr th:only-of-type {\n",
              "        vertical-align: middle;\n",
              "    }\n",
              "\n",
              "    .dataframe tbody tr th {\n",
              "        vertical-align: top;\n",
              "    }\n",
              "\n",
              "    .dataframe thead th {\n",
              "        text-align: right;\n",
              "    }\n",
              "</style>\n",
              "<table border=\"1\" class=\"dataframe\">\n",
              "  <thead>\n",
              "    <tr style=\"text-align: right;\">\n",
              "      <th></th>\n",
              "      <th>Year</th>\n",
              "      <th>Crude diabetes prevalence</th>\n",
              "    </tr>\n",
              "  </thead>\n",
              "  <tbody>\n",
              "    <tr>\n",
              "      <th>Year</th>\n",
              "      <td>1.000000</td>\n",
              "      <td>0.410139</td>\n",
              "    </tr>\n",
              "    <tr>\n",
              "      <th>Crude diabetes prevalence</th>\n",
              "      <td>0.410139</td>\n",
              "      <td>1.000000</td>\n",
              "    </tr>\n",
              "  </tbody>\n",
              "</table>\n",
              "</div>\n",
              "      <button class=\"colab-df-convert\" onclick=\"convertToInteractive('df-b488f384-9f47-4ba3-8b85-aafd994fc1e2')\"\n",
              "              title=\"Convert this dataframe to an interactive table.\"\n",
              "              style=\"display:none;\">\n",
              "        \n",
              "  <svg xmlns=\"http://www.w3.org/2000/svg\" height=\"24px\"viewBox=\"0 0 24 24\"\n",
              "       width=\"24px\">\n",
              "    <path d=\"M0 0h24v24H0V0z\" fill=\"none\"/>\n",
              "    <path d=\"M18.56 5.44l.94 2.06.94-2.06 2.06-.94-2.06-.94-.94-2.06-.94 2.06-2.06.94zm-11 1L8.5 8.5l.94-2.06 2.06-.94-2.06-.94L8.5 2.5l-.94 2.06-2.06.94zm10 10l.94 2.06.94-2.06 2.06-.94-2.06-.94-.94-2.06-.94 2.06-2.06.94z\"/><path d=\"M17.41 7.96l-1.37-1.37c-.4-.4-.92-.59-1.43-.59-.52 0-1.04.2-1.43.59L10.3 9.45l-7.72 7.72c-.78.78-.78 2.05 0 2.83L4 21.41c.39.39.9.59 1.41.59.51 0 1.02-.2 1.41-.59l7.78-7.78 2.81-2.81c.8-.78.8-2.07 0-2.86zM5.41 20L4 18.59l7.72-7.72 1.47 1.35L5.41 20z\"/>\n",
              "  </svg>\n",
              "      </button>\n",
              "      \n",
              "  <style>\n",
              "    .colab-df-container {\n",
              "      display:flex;\n",
              "      flex-wrap:wrap;\n",
              "      gap: 12px;\n",
              "    }\n",
              "\n",
              "    .colab-df-convert {\n",
              "      background-color: #E8F0FE;\n",
              "      border: none;\n",
              "      border-radius: 50%;\n",
              "      cursor: pointer;\n",
              "      display: none;\n",
              "      fill: #1967D2;\n",
              "      height: 32px;\n",
              "      padding: 0 0 0 0;\n",
              "      width: 32px;\n",
              "    }\n",
              "\n",
              "    .colab-df-convert:hover {\n",
              "      background-color: #E2EBFA;\n",
              "      box-shadow: 0px 1px 2px rgba(60, 64, 67, 0.3), 0px 1px 3px 1px rgba(60, 64, 67, 0.15);\n",
              "      fill: #174EA6;\n",
              "    }\n",
              "\n",
              "    [theme=dark] .colab-df-convert {\n",
              "      background-color: #3B4455;\n",
              "      fill: #D2E3FC;\n",
              "    }\n",
              "\n",
              "    [theme=dark] .colab-df-convert:hover {\n",
              "      background-color: #434B5C;\n",
              "      box-shadow: 0px 1px 3px 1px rgba(0, 0, 0, 0.15);\n",
              "      filter: drop-shadow(0px 1px 2px rgba(0, 0, 0, 0.3));\n",
              "      fill: #FFFFFF;\n",
              "    }\n",
              "  </style>\n",
              "\n",
              "      <script>\n",
              "        const buttonEl =\n",
              "          document.querySelector('#df-b488f384-9f47-4ba3-8b85-aafd994fc1e2 button.colab-df-convert');\n",
              "        buttonEl.style.display =\n",
              "          google.colab.kernel.accessAllowed ? 'block' : 'none';\n",
              "\n",
              "        async function convertToInteractive(key) {\n",
              "          const element = document.querySelector('#df-b488f384-9f47-4ba3-8b85-aafd994fc1e2');\n",
              "          const dataTable =\n",
              "            await google.colab.kernel.invokeFunction('convertToInteractive',\n",
              "                                                     [key], {});\n",
              "          if (!dataTable) return;\n",
              "\n",
              "          const docLinkHtml = 'Like what you see? Visit the ' +\n",
              "            '<a target=\"_blank\" href=https://colab.research.google.com/notebooks/data_table.ipynb>data table notebook</a>'\n",
              "            + ' to learn more about interactive tables.';\n",
              "          element.innerHTML = '';\n",
              "          dataTable['output_type'] = 'display_data';\n",
              "          await google.colab.output.renderOutput(dataTable, element);\n",
              "          const docLink = document.createElement('div');\n",
              "          docLink.innerHTML = docLinkHtml;\n",
              "          element.appendChild(docLink);\n",
              "        }\n",
              "      </script>\n",
              "    </div>\n",
              "  </div>\n",
              "  "
            ],
            "text/plain": [
              "                               Year  Crude diabetes prevalence\n",
              "Year                       1.000000                   0.410139\n",
              "Crude diabetes prevalence  0.410139                   1.000000"
            ]
          },
          "metadata": {},
          "execution_count": 8
        }
      ]
    },
    {
      "cell_type": "markdown",
      "source": [
        "The correlation coefficient is **.410**. This means that there is a **moderate positive relationship** between the year and crude diabetes prevalence. \n",
        "\n",
        "This means when the value of one variable increases, there is a chance that the value of the other variable will increases in a similar fashion. When the year increase, the diabetes prevalence also increase. This backs up our two hypothesis. "
      ],
      "metadata": {
        "id": "xVPb2kZW3Z6N"
      }
    },
    {
      "cell_type": "markdown",
      "source": [
        "**Second statistical test**\n",
        "\n",
        "\n",
        "---\n",
        "\n",
        "**An independent-samples t-test**\n",
        "\n",
        "An independent-samples t-test will compare the means of these two samples, sex and crude diabetes prevalence. It will also give a p-value indicating how likely it is that this difference is due to random chance. \n",
        "\n",
        "In this test we will see if the crude diabetes prevalence is changed between 1980 and 2014. This will be a second test that will help us confirm the two hypothesis that we have made. \n",
        "\n",
        "\n",
        "---\n"
      ],
      "metadata": {
        "id": "ub_tr4bfCHJN"
      }
    },
    {
      "cell_type": "code",
      "source": [
        "year_1980 = df.iloc[(df['Year'] == 1980).values]\n",
        "year_1980.info()"
      ],
      "metadata": {
        "colab": {
          "base_uri": "https://localhost:8080/"
        },
        "id": "Kw2gnMT59Ui3",
        "outputId": "67045509-72a1-4f27-c00e-2aca295e669e"
      },
      "execution_count": null,
      "outputs": [
        {
          "output_type": "stream",
          "name": "stdout",
          "text": [
            "<class 'pandas.core.frame.DataFrame'>\n",
            "Int64Index: 390 entries, 0 to 13615\n",
            "Data columns (total 7 columns):\n",
            " #   Column                          Non-Null Count  Dtype  \n",
            "---  ------                          --------------  -----  \n",
            " 0   Country/Region/World            390 non-null    object \n",
            " 1   ISO                             390 non-null    object \n",
            " 2   Sex                             390 non-null    object \n",
            " 3   Year                            390 non-null    int64  \n",
            " 4   Crude diabetes prevalence       390 non-null    float64\n",
            " 5   Lower 95% uncertainty interval  390 non-null    float64\n",
            " 6   Upper 95% uncertainty interval  390 non-null    float64\n",
            "dtypes: float64(3), int64(1), object(3)\n",
            "memory usage: 24.4+ KB\n"
          ]
        }
      ]
    },
    {
      "cell_type": "code",
      "source": [
        "year_2014 = df.iloc[(df['Year'] == 2014).values]\n",
        "year_2014.info()"
      ],
      "metadata": {
        "colab": {
          "base_uri": "https://localhost:8080/"
        },
        "id": "1wVTx83u_uOc",
        "outputId": "343a0992-00d9-486c-ecf6-72c79070f4fb"
      },
      "execution_count": null,
      "outputs": [
        {
          "output_type": "stream",
          "name": "stdout",
          "text": [
            "<class 'pandas.core.frame.DataFrame'>\n",
            "Int64Index: 390 entries, 34 to 13649\n",
            "Data columns (total 7 columns):\n",
            " #   Column                          Non-Null Count  Dtype  \n",
            "---  ------                          --------------  -----  \n",
            " 0   Country/Region/World            390 non-null    object \n",
            " 1   ISO                             390 non-null    object \n",
            " 2   Sex                             390 non-null    object \n",
            " 3   Year                            390 non-null    int64  \n",
            " 4   Crude diabetes prevalence       390 non-null    float64\n",
            " 5   Lower 95% uncertainty interval  390 non-null    float64\n",
            " 6   Upper 95% uncertainty interval  390 non-null    float64\n",
            "dtypes: float64(3), int64(1), object(3)\n",
            "memory usage: 24.4+ KB\n"
          ]
        }
      ]
    },
    {
      "cell_type": "markdown",
      "source": [
        "There are 390 salaries from 1980 and 390 salaries from 2014. The t-test will compare the two means from these two samples. It will give us a p-value which tells us if the difference is due to random chance. \n",
        "\n",
        "\n",
        "---\n",
        "**Hypothesis**\n",
        "\n",
        "H₀: µ1 = µ2 (The two populations means are equal)\n",
        "\n",
        "Hₐ: µ1 ≠ µ2 (The two populations means are not equal)\n"
      ],
      "metadata": {
        "id": "j7ZgebujQ7cO"
      }
    },
    {
      "cell_type": "code",
      "source": [
        "stats.ttest_ind(year_1980['Crude diabetes prevalence'], year_2014['Crude diabetes prevalence'])"
      ],
      "metadata": {
        "colab": {
          "base_uri": "https://localhost:8080/"
        },
        "id": "tLFQyiIpAeGE",
        "outputId": "c645a592-1230-4b3c-df2f-0cf2a95850be"
      },
      "execution_count": null,
      "outputs": [
        {
          "output_type": "execute_result",
          "data": {
            "text/plain": [
              "Ttest_indResult(statistic=-19.059221974558152, pvalue=9.398625964606582e-67)"
            ]
          },
          "metadata": {},
          "execution_count": 25
        }
      ]
    },
    {
      "cell_type": "markdown",
      "source": [
        "After conducting the independent-samples ttest, it gives a negative t-value and a p-value. \n",
        "\n",
        "If we look at the p-value, the **p-value is extremely small**, implying that this is a real difference. **The crude diabetes prevalence changed dramatically between 1980 and 2014**. \n",
        "\n",
        "This confirms that they are indeed a difference in crude prevalence \n"
      ],
      "metadata": {
        "id": "gkV4HT3YLUdE"
      }
    },
    {
      "cell_type": "markdown",
      "source": [
        "# **Visualizations**\n",
        "\n",
        "Visualizations will help us tell a story with the data. I will try to get two different visulizations, scatterplot and boxplot, that will help us see trends. "
      ],
      "metadata": {
        "id": "xs62DurqO0eb"
      }
    },
    {
      "cell_type": "code",
      "source": [
        "# Visulizations\n",
        "\n",
        "# Scatterplot\n",
        "\n",
        "sns.scatterplot(x=df['Year'], y=df['Crude diabetes prevalence'], hue=df['Sex'], data=df)\n",
        "\n",
        "#From the scatterplot, you can see that that is a gradual and linear increase in the crude diabetes prevalence in both men and women"
      ],
      "metadata": {
        "colab": {
          "base_uri": "https://localhost:8080/",
          "height": 302
        },
        "id": "e6NMKNB0KBd9",
        "outputId": "53d0a8a8-d912-4b25-9bd8-c1d65e678b3e"
      },
      "execution_count": null,
      "outputs": [
        {
          "output_type": "execute_result",
          "data": {
            "text/plain": [
              "<matplotlib.axes._subplots.AxesSubplot at 0x7ff62a5f6a90>"
            ]
          },
          "metadata": {},
          "execution_count": 14
        },
        {
          "output_type": "display_data",
          "data": {
            "image/png": "[encoded data removed]",
            "text/plain": [
              "<Figure size 432x288 with 1 Axes>"
            ]
          },
          "metadata": {}
        }
      ]
    },
    {
      "cell_type": "markdown",
      "source": [
        "From the scatterplot, you can see that that is a gradual and linear increase in the crude diabetes prevalence in both men and women. There is a positive co-relation, a positive correlation, between year and crude diabetes prevalence."
      ],
      "metadata": {
        "id": "CoCqdnICSue9"
      }
    },
    {
      "cell_type": "markdown",
      "source": [
        "**Box Plot**\n",
        "\n",
        "\n",
        "---\n",
        "\n",
        "Box plots visually illustrate the distribution of values in a category.\n",
        "Boxplot is also used for detect the outlier in data set. It captures the summary of the data efficiently with a simple box and whiskers and allows us to compare easily across groups.\n",
        "\n",
        "The box plot is sex vs crude diabetes prevalence \n",
        "\n"
      ],
      "metadata": {
        "id": "syoccmU-XShn"
      }
    },
    {
      "cell_type": "code",
      "source": [
        "# Boxplot of Sex vs crude diabetes prevalence.\n",
        "\n",
        "sns.boxplot(y=\"Crude diabetes prevalence\", x=\"Sex\", data=df)"
      ],
      "metadata": {
        "colab": {
          "base_uri": "https://localhost:8080/",
          "height": 302
        },
        "id": "O66huLgeSuia",
        "outputId": "892fd8bf-05a4-4e4d-d4d7-334c5f5d21a2"
      },
      "execution_count": null,
      "outputs": [
        {
          "output_type": "execute_result",
          "data": {
            "text/plain": [
              "<matplotlib.axes._subplots.AxesSubplot at 0x7ff61b9ec350>"
            ]
          },
          "metadata": {},
          "execution_count": 39
        },
        {
          "output_type": "display_data",
          "data": {
            "image/png": "[encoded data removed]",
            "text/plain": [
              "<Figure size 432x288 with 1 Axes>"
            ]
          },
          "metadata": {}
        }
      ]
    },
    {
      "cell_type": "markdown",
      "source": [
        "From the box plot, we see that majority of the diabetes prevalence are outliers. These outliers are more than the maximum value. We see how the values distribute throughout the different quartiles. "
      ],
      "metadata": {
        "id": "ZgU7zB3QY7_a"
      }
    },
    {
      "cell_type": "markdown",
      "source": [
        "# **Recommendations/Conclusions**\n",
        "\n",
        "---\n",
        "\n",
        "\n",
        "*   The crude diabetes prevalence seems to be increasing rapidly as the years increases for both men and women. \n",
        "  *   This confirms both hypothesis that Diabetes have rapidly increased overly the years in both men and women\n",
        "\n",
        "\n",
        "---\n",
        "\n",
        "\n",
        "* I would recommend putting in place some education-based programs that would help educate the community. Educating the community could help potentially lower the prevalence in diabetes globally.  \n",
        "\n",
        "\n"
      ],
      "metadata": {
        "id": "ibGT_WCjYRHq"
      }
    },
    {
      "cell_type": "code",
      "source": [
        ""
      ],
      "metadata": {
        "id": "o9RBL5GeTvRa"
      },
      "execution_count": null,
      "outputs": []
    }
  ]
}